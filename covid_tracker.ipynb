# covid_tracker.ipynb (first few cells)

# 📌 COVID-19 Global Data Tracker
# Import libraries
import pandas as pd
import matplotlib.pyplot as plt
import seaborn as sns

# Set styles
sns.set(style="whitegrid")
plt.rcParams["figure.figsize"] = (12,6)

# Load the dataset from Our World in Data
url = "https://covid.ourworldindata.org/data/owid-covid-data.csv"
df = pd.read_csv(url)

# Display the first few rows
df.head()
